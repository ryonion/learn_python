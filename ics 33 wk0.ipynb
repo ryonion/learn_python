{
 "cells": [
  {
   "cell_type": "markdown",
   "metadata": {},
   "source": [
    "## By Ryan and Yifan\n",
    "\n",
    "# ICS 33 wk 0 review"
   ]
  },
  {
   "cell_type": "markdown",
   "metadata": {},
   "source": [
    "# file reading"
   ]
  },
  {
   "cell_type": "code",
   "execution_count": 19,
   "metadata": {
    "collapsed": false
   },
   "outputs": [
    {
     "name": "stdout",
     "output_type": "stream",
     "text": [
      "hello\n",
      "\n",
      "world\n",
      "\n",
      "ryan\n",
      "\n",
      "yifan\n"
     ]
    }
   ],
   "source": [
    "# open(\"abc.txt\") creates an iterable object\n",
    "# we can see the file \"abc.txt\" as a book\n",
    "# opening it creats an opened book object\n",
    "# \"line\" is each page of the opened book\n",
    "# then we can do anything we want to each \"page\" of the \"opened book\"\n",
    "for line in open(\"abc.txt\"):  \n",
    "      print(line)"
   ]
  },
  {
   "cell_type": "code",
   "execution_count": 20,
   "metadata": {
    "collapsed": false
   },
   "outputs": [
    {
     "name": "stdout",
     "output_type": "stream",
     "text": [
      "hello\n",
      "\n",
      "world\n",
      "\n",
      "ryan\n",
      "\n",
      "yifan\n"
     ]
    }
   ],
   "source": [
    "# creates an iterable object first\n",
    "book = open(\"abc.txt\")\n",
    "\n",
    "# then iterate through it\n",
    "for page in book:\n",
    "    print(page)"
   ]
  },
  {
   "cell_type": "code",
   "execution_count": 21,
   "metadata": {
    "collapsed": false
   },
   "outputs": [
    {
     "name": "stdout",
     "output_type": "stream",
     "text": [
      "line 0 : hello\n",
      "\n",
      "line 1 : world\n",
      "\n",
      "line 2 : ryan\n",
      "\n",
      "line 3 : yifan\n"
     ]
    }
   ],
   "source": [
    "# a better analogy\n",
    "article = open(\"abc.txt\")\n",
    "# enumerate(article) creates an slightly different iterable object,\n",
    "# it provides the indices of the corresponding lines:\n",
    "# (0, line0)\n",
    "# (1, line1)\n",
    "# (2, line2)\n",
    "# ...\n",
    "# this is extremely useful when you need the index of a line\n",
    "for i, line in enumerate(article):\n",
    "    print(\"line\", i , \":\" , line)"
   ]
  },
  {
   "cell_type": "code",
   "execution_count": 30,
   "metadata": {
    "collapsed": false
   },
   "outputs": [
    {
     "name": "stdout",
     "output_type": "stream",
     "text": [
      "hello\n",
      "world\n",
      "ryan\n",
      "yifan\n"
     ]
    }
   ],
   "source": [
    "# there is always a hidden character \"\\n\" at the end of each line\n",
    "# if you don't get rid of the hidden \"\\n\" (newline), \n",
    "# you will see unexpected new line in between your output\n",
    "# it is a good practice to remove the \"\\n\" before you use the strings\n",
    "# you read from a file, when you do need a empty line, just print it\n",
    "\n",
    "# line.rstrip('\\n') returns a line without a '\\n' \n",
    "# at the end of the sentence\n",
    "\n",
    "article = open(\"abc.txt\")\n",
    "for line in article:\n",
    "    print(line.rstrip('\\n'))\n",
    "# this time, we don't have blank line inbetween the sentences"
   ]
  },
  {
   "cell_type": "code",
   "execution_count": 31,
   "metadata": {
    "collapsed": false
   },
   "outputs": [
    {
     "name": "stdout",
     "output_type": "stream",
     "text": [
      "line 3 : hello\n",
      "line 3 : world\n",
      "line 3 : rya\n",
      "line 3 : yifa\n"
     ]
    }
   ],
   "source": [
    "# you can remove any other characters at the right end of a sentence\n",
    "article = open(\"abc.txt\")\n",
    "for line in article:\n",
    "    line = line.rstrip('\\n')\n",
    "    print(\"line\", i , \":\" , line.rstrip('n'))"
   ]
  },
  {
   "cell_type": "markdown",
   "metadata": {},
   "source": [
    "### <font color = red>if we call .rstrip() with no arguments, all white-space characters (including the newline character(s), spaces, and tabs) are stripped from the right end of the string.</font>"
   ]
  },
  {
   "cell_type": "markdown",
   "metadata": {},
   "source": [
    "### <font color = red>line.rstrip('\\n') does not modify \"line\", it returns a new line with changes</font>"
   ]
  },
  {
   "cell_type": "code",
   "execution_count": null,
   "metadata": {
    "collapsed": true
   },
   "outputs": [],
   "source": [
    "# what do you think the following code would print?\n",
    "article = open(\"abc.txt\")\n",
    "for line in article:\n",
    "    line.rstrip('\\n')\n",
    "    print(\"line\", i , \":\" , line)"
   ]
  },
  {
   "cell_type": "markdown",
   "metadata": {},
   "source": [
    "### list comprehension"
   ]
  },
  {
   "cell_type": "code",
   "execution_count": 40,
   "metadata": {
    "collapsed": false
   },
   "outputs": [
    {
     "name": "stdout",
     "output_type": "stream",
     "text": [
      "['hello\\n', 'world\\n', 'ryan\\n', 'yifan']\n"
     ]
    }
   ],
   "source": [
    "# syntax -- [ x for x in iteratable_obj ]\n",
    "# iterate through a file and put all the sentences in a list\n",
    "line_list = [line for line in open(\"abc.txt\")]\n",
    "print(line_list)"
   ]
  },
  {
   "cell_type": "code",
   "execution_count": 46,
   "metadata": {
    "collapsed": false
   },
   "outputs": [
    {
     "name": "stdout",
     "output_type": "stream",
     "text": [
      "HELLO\n",
      "WORLD\n",
      "RYAN\n",
      "YIFAN\n"
     ]
    }
   ],
   "source": [
    "# assume line = \"abc\"\n",
    "# line.rstrip('c') returns \"ab\"\n",
    "# line.rstrip('c').upper() returns \"AB\"\n",
    "# line.rstrip('c').upper().split() return a list ['A','B']\n",
    "# note that these three methos (basically all the string methods)\n",
    "# don't modify the string itself, they instead create a new string\n",
    "# because string is imutatble.\n",
    "\n",
    "for line in open('abc.txt'):\n",
    "    for word in line.rstrip().upper().split():\n",
    "        print(word)  "
   ]
  },
  {
   "cell_type": "code",
   "execution_count": null,
   "metadata": {
    "collapsed": true
   },
   "outputs": [],
   "source": []
  }
 ],
 "metadata": {
  "kernelspec": {
   "display_name": "Python 3",
   "language": "python",
   "name": "python3"
  },
  "language_info": {
   "codemirror_mode": {
    "name": "ipython",
    "version": 3
   },
   "file_extension": ".py",
   "mimetype": "text/x-python",
   "name": "python",
   "nbconvert_exporter": "python",
   "pygments_lexer": "ipython3",
   "version": "3.6.0"
  }
 },
 "nbformat": 4,
 "nbformat_minor": 0
}
