{
 "cells": [
  {
   "cell_type": "markdown",
   "metadata": {},
   "source": [
    "#### <p>\n",
    "考点s：\n",
    "1. defaultdict\n",
    "2. comprehensions\n",
    "3. sorted(), key = lambda .... lambda ! lambda ! lambda !\n",
    "4. all()/any()\n",
    "5. a lot of dictionaries\n",
    "\n",
    "</p>"
   ]
  },
  {
   "cell_type": "markdown",
   "metadata": {},
   "source": [
    "### Lambda (anonymous function)"
   ]
  },
  {
   "cell_type": "code",
   "execution_count": 1,
   "metadata": {
    "collapsed": false
   },
   "outputs": [
    {
     "data": {
      "text/plain": [
       "(4, -2, 3)"
      ]
     },
     "execution_count": 1,
     "metadata": {},
     "output_type": "execute_result"
    }
   ],
   "source": [
    "def f(x,y):\n",
    "    return x+y\n",
    "\n",
    "# using lambda:\n",
    "f = (lambda x,y : x+y)   # x, y are the parameters, x+y is the return value\n",
    "\n",
    "g = (lambda x,y : (x+y, x-y, x*y)) # we can also return a tuple\n",
    "\n",
    "g(1,3)"
   ]
  },
  {
   "cell_type": "markdown",
   "metadata": {},
   "source": [
    "# parameters"
   ]
  },
  {
   "cell_type": "markdown",
   "metadata": {},
   "source": [
    "#### parameters vs arguments\n",
    "#### parameters are the variables that a method/function use to store the arguments\n",
    "#### arguments are the the actual data passed to a method/function "
   ]
  },
  {
   "cell_type": "code",
   "execution_count": 66,
   "metadata": {
    "collapsed": true
   },
   "outputs": [],
   "source": [
    "def funcA(a,b,c):    # we say the funcA has 3 parameters\n",
    "    pass \n",
    "\n",
    "funcA(1,2,3)         # we say we are passing 1,2,3 as arguments into funcA"
   ]
  },
  {
   "cell_type": "markdown",
   "metadata": {},
   "source": [
    "### 2 kinds of parameters in python: \n",
    "1. positional\n",
    "2. keyword parameters"
   ]
  },
  {
   "cell_type": "markdown",
   "metadata": {},
   "source": [
    "### senario 0: when your arguments are in a data structure, but you want to pass into a method separately"
   ]
  },
  {
   "cell_type": "code",
   "execution_count": 47,
   "metadata": {
    "collapsed": false
   },
   "outputs": [
    {
     "name": "stdout",
     "output_type": "stream",
     "text": [
      "1 2 3 4\n"
     ]
    }
   ],
   "source": [
    "li = [1,2,3,4]\n",
    "\n",
    "def func0(a,b,c,d):\n",
    "    print(a,b,c,d)\n",
    "\n",
    "# how do we pass li into func0?\n",
    "# func0(li[0],li[1],li[2],li[3])?\n",
    "\n",
    "# we can just unpack the list into separate arguments with single asterisk (*)\n",
    "\n",
    "func0(*li)"
   ]
  },
  {
   "cell_type": "code",
   "execution_count": 48,
   "metadata": {
    "collapsed": false
   },
   "outputs": [
    {
     "name": "stdout",
     "output_type": "stream",
     "text": [
      "3 1\n"
     ]
    }
   ],
   "source": [
    "d = dict(bad=1,good=3)\n",
    "\n",
    "def func1(good,bad):\n",
    "    print(good,bad)\n",
    "\n",
    "# how do we pass d into func1?\n",
    "# func1(d[b], d[a]) ?\n",
    "\n",
    "# we can just unpack the dict into separate keyword arguments with double asterisk (**)\n",
    "func1(**d)"
   ]
  },
  {
   "cell_type": "markdown",
   "metadata": {},
   "source": [
    "### senario 1: when you don't know how many argument are going to be passed into the fuction, e.g. python print() function"
   ]
  },
  {
   "cell_type": "code",
   "execution_count": 52,
   "metadata": {
    "collapsed": false
   },
   "outputs": [
    {
     "name": "stdout",
     "output_type": "stream",
     "text": [
      "(1,)\n",
      "(1, 2, 3)\n"
     ]
    }
   ],
   "source": [
    "def func2(*pargs):   # taking unknown numbers of positional arguments\n",
    "    print(pargs)\n",
    "    \n",
    "func2(1)\n",
    "func2(1,2,3)"
   ]
  },
  {
   "cell_type": "code",
   "execution_count": 57,
   "metadata": {
    "collapsed": false
   },
   "outputs": [
    {
     "name": "stdout",
     "output_type": "stream",
     "text": [
      "{'a': 2}\n",
      "{'c': 5, 'a': 3, 'b': 4}\n"
     ]
    }
   ],
   "source": [
    "def func3(**kargs):   # taking unknown numbers of keyword arguments\n",
    "    print(kargs)\n",
    "\n",
    "func3(a=2)\n",
    "func3(a=3,b=4,c=5)"
   ]
  },
  {
   "cell_type": "code",
   "execution_count": 64,
   "metadata": {
    "collapsed": false
   },
   "outputs": [
    {
     "name": "stdout",
     "output_type": "stream",
     "text": [
      "1 | 2 | 3 | 4 | 5 done"
     ]
    }
   ],
   "source": [
    "# mix up\n",
    "def myPrint(a, *pargs, **kargs):\n",
    "    print(a, *pargs, **kargs)\n",
    "myPrint(1,2,3,4,5,sep = \" | \", end = \" done\")"
   ]
  },
  {
   "cell_type": "markdown",
   "metadata": {},
   "source": [
    "### parameters summary\n",
    "#### don't be overwhelmed, in the exam you will probably be asked to write functions looks like myPrint(), if you understand what \\* and \\*\\* mean you will be fine"
   ]
  },
  {
   "cell_type": "markdown",
   "metadata": {
    "collapsed": true
   },
   "source": [
    "## exception"
   ]
  },
  {
   "cell_type": "code",
   "execution_count": 1,
   "metadata": {
    "collapsed": false
   },
   "outputs": [
    {
     "name": "stdout",
     "output_type": "stream",
     "text": [
      "Enter a positive number: a\n",
      "  You bozo, you entered \"a\"\n",
      "  That is not a legal int\n",
      "Enter a positive number: 1\n",
      "1\n"
     ]
    }
   ],
   "source": [
    "# if you know there might be errors caused by some reasons, for example, evil user input\n",
    "# you can try catching the error and handling it so that the program won't crash.\n",
    "\n",
    "def prompt_for_int(prompt_text):\n",
    "    while True:\n",
    "        try:             # you know user input can cause an error\n",
    "            response = input(prompt_text+': ')    # response is used in except\n",
    "            answer = int(response)\n",
    "            return answer\n",
    "        except ValueError:  # if it is an valueError \n",
    "            print('  You bozo, you entered \"',response,'\"',sep='')\n",
    "            print('  That is not a legal int')\n",
    "        except NameError:\n",
    "            print(\"Name error\")\n",
    "        except:                  # if it is none of the errors listed\n",
    "            print('unknown error')\n",
    "        \n",
    "print(prompt_for_int('Enter a positive number'))"
   ]
  },
  {
   "cell_type": "markdown",
   "metadata": {},
   "source": [
    "## zip"
   ]
  },
  {
   "cell_type": "code",
   "execution_count": 5,
   "metadata": {
    "collapsed": false
   },
   "outputs": [
    {
     "name": "stdout",
     "output_type": "stream",
     "text": [
      "z: <zip object at 0x03AAD3A0> list of z: [('a', 1), ('b', 2), ('c', 3)]\n"
     ]
    }
   ],
   "source": [
    "z = zip( 'abc', (1, 2, 3) )           # String and tuple are iterator arguments\n",
    "                                      # producing a sequence of pairs\n",
    "    \n",
    "print('z:', z, 'list of z:', [i for i in z1])"
   ]
  },
  {
   "cell_type": "code",
   "execution_count": 15,
   "metadata": {
    "collapsed": false
   },
   "outputs": [
    {
     "name": "stdout",
     "output_type": "stream",
     "text": [
      "[('a', '1'), ('b', '2'), ('c', '3')]\n"
     ]
    }
   ],
   "source": [
    "# zip works even when the two iterables have different size, the longer squence gets cut\n",
    "\n",
    "z1 = zip('abc', '123456')\n",
    "print([i for i in z1])"
   ]
  },
  {
   "cell_type": "code",
   "execution_count": 37,
   "metadata": {
    "collapsed": false
   },
   "outputs": [
    {
     "name": "stdout",
     "output_type": "stream",
     "text": [
      "<zip object at 0x03ABB968>\n",
      "[('a', '1', '-'), ('b', '2', '-'), ('c', '3', '-')]\n",
      "()\n",
      "{('c', '3'), ('b', '2'), ('a', '1')}\n"
     ]
    }
   ],
   "source": [
    "# you cannot print a zip object directly, you need to turn it into a list or other iterables\n",
    "\n",
    "z1 = zip('abc', '123456', '---')          # we can also zip three iterable together\n",
    "print(z1)\n",
    "print(list(z1))\n",
    "\n",
    "print(tuple(z1))      # prints nothing, because zip objects work like generators, z1 has iterated to the end when we call list(z1)\n",
    "\n",
    "z1 = zip('abc', '123456')    # that is why we creates a new zip object here\n",
    "print(set(z1))\n"
   ]
  },
  {
   "cell_type": "markdown",
   "metadata": {},
   "source": [
    "### **comprehensions and sorted()"
   ]
  },
  {
   "cell_type": "code",
   "execution_count": 44,
   "metadata": {
    "collapsed": false
   },
   "outputs": [
    {
     "name": "stdout",
     "output_type": "stream",
     "text": [
      "['I', 'have', 'a', 'dream']\n",
      "[('I', 'I'), ('HAVE', 'h'), ('A', 'a'), ('DREAM', 'd')]\n",
      "[('I', 'I'), ('HAVE', 'h'), ('A', 'a'), ('DREAM', 'd')]\n"
     ]
    }
   ],
   "source": [
    "sentence = [\"I\", \"have\", \"a\", \"dream\"]\n",
    "\n",
    "print( [x for x in sentence] )          # a comprehension is just an one-line for loop \n",
    "\n",
    "print([ (x.upper(), x[0]) for x in sentence ])  # and you can do more\n",
    "\n",
    "# it is equivalent to the following:\n",
    "\n",
    "li = []\n",
    "for x in sentence:\n",
    "    li.append((x.upper(),x[0]))\n",
    "print(li)"
   ]
  },
  {
   "cell_type": "code",
   "execution_count": 3,
   "metadata": {
    "collapsed": false
   },
   "outputs": [
    {
     "name": "stdout",
     "output_type": "stream",
     "text": [
      "small to large [2, 4, 5, 6, 9, 10, 11]\n",
      "large to small [11, 10, 9, 6, 5, 4, 2]\n",
      "even to odd [4, 6, 2, 10, 9, 5, 11]\n",
      "<=5 to >5 [4, 5, 2, 9, 6, 10, 11]\n"
     ]
    }
   ],
   "source": [
    "# sorted()\n",
    "\n",
    "unordered = [9,4,5,6,2,10,11]\n",
    "\n",
    "print(\"small to large\",sorted(unordered))\n",
    "\n",
    "print(\"large to small\", sorted(unordered, reverse = True))\n",
    "\n",
    "print(\"even to odd\", sorted(unordered, key = (lambda k : k%2)))   # give a function of each element to key\n",
    "\n",
    "def myLambda(x):\n",
    "    return int(x>5)\n",
    "\n",
    "print(\"<=5 to >5\", sorted(unordered, key = myLambda))"
   ]
  },
  {
   "cell_type": "code",
   "execution_count": 6,
   "metadata": {
    "collapsed": false
   },
   "outputs": [
    {
     "name": "stdout",
     "output_type": "stream",
     "text": [
      "<=5 to >5 [2, 4, 6, 10, 5, 9, 11]\n"
     ]
    }
   ],
   "source": [
    "print(\"<=5 to >5\", sorted(unordered, key = lambda k: (k%2, k)))   # even to odd, and from small to large "
   ]
  },
  {
   "cell_type": "code",
   "execution_count": 11,
   "metadata": {
    "collapsed": true
   },
   "outputs": [],
   "source": [
    "d = dict(ken=dict(hist=10,cs=5),mary=dict(hist=10,cs=6),barry=dict(hist=2,cs=7))"
   ]
  },
  {
   "cell_type": "code",
   "execution_count": 19,
   "metadata": {
    "collapsed": false
   },
   "outputs": [
    {
     "name": "stdout",
     "output_type": "stream",
     "text": [
      "sort by hist, name and cs: [('barry', {'hist': 2, 'cs': 7}), ('ken', {'hist': 10, 'cs': 5}), ('mary', {'hist': 10, 'cs': 6})]\n"
     ]
    }
   ],
   "source": [
    "# one-line Pattis would do:\n",
    "print(\"sort by hist, name and cs:\", [  (x,d[x]) for x in sorted(d, key = lambda name: (d[name][\"hist\"],name,d[name][\"cs\"]))]) "
   ]
  },
  {
   "cell_type": "code",
   "execution_count": null,
   "metadata": {
    "collapsed": true
   },
   "outputs": [],
   "source": []
  }
 ],
 "metadata": {
  "kernelspec": {
   "display_name": "Python 3",
   "language": "python",
   "name": "python3"
  },
  "language_info": {
   "codemirror_mode": {
    "name": "ipython",
    "version": 3
   },
   "file_extension": ".py",
   "mimetype": "text/x-python",
   "name": "python",
   "nbconvert_exporter": "python",
   "pygments_lexer": "ipython3",
   "version": "3.5.2"
  }
 },
 "nbformat": 4,
 "nbformat_minor": 0
}
